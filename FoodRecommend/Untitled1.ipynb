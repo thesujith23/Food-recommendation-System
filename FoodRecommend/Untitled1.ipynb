{
 "cells": [
  {
   "cell_type": "code",
   "execution_count": null,
   "id": "467178d9-8506-4fe8-961d-1d6c85e29bff",
   "metadata": {},
   "outputs": [],
   "source": [
    "!python app.py\n"
   ]
  },
  {
   "cell_type": "code",
   "execution_count": null,
   "id": "416a80dd-1ba3-445f-8b5c-2960f4a189c5",
   "metadata": {},
   "outputs": [],
   "source": []
  }
 ],
 "metadata": {
  "kernelspec": {
   "display_name": "Python 3 (ipykernel)",
   "language": "python",
   "name": "python3"
  },
  "language_info": {
   "codemirror_mode": {
    "name": "ipython",
    "version": 3
   },
   "file_extension": ".py",
   "mimetype": "text/x-python",
   "name": "python",
   "nbconvert_exporter": "python",
   "pygments_lexer": "ipython3",
   "version": "3.12.4"
  }
 },
 "nbformat": 4,
 "nbformat_minor": 5
}
